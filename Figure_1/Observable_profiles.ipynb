{
 "cells": [
  {
   "cell_type": "code",
   "execution_count": 1,
   "metadata": {},
   "outputs": [
    {
     "name": "stdout",
     "output_type": "stream",
     "text": [
      "['/home/morteza/dlc_projects/Analysis/Currencodes/csm_paper', '/home/morteza/dlc_projects/Analysis/Currencodes/csm_paper/.git', '/home/morteza/dlc_projects/Analysis/Currencodes/csm_paper/.git/refs', '/home/morteza/dlc_projects/Analysis/Currencodes/csm_paper/.git/refs/remotes', '/home/morteza/dlc_projects/Analysis/Currencodes/csm_paper/.git/logs', '/home/morteza/dlc_projects/Analysis/Currencodes/csm_paper/.git/logs/refs', '/home/morteza/dlc_projects/Analysis/Currencodes/csm_paper/.git/logs/refs/remotes', '/home/morteza/dlc_projects/Analysis/Currencodes/csm_paper/.git/objects', '/home/morteza/dlc_projects/Analysis/Currencodes/csm_paper/utils', '/home/morteza/dlc_projects/Analysis/Currencodes/csm_paper/Figure_2', '/home/morteza/dlc_projects/Analysis/Currencodes/csm_paper/Figure_1', '/home/morteza/dlc_projects/Analysis/Currencodes/csm_paper/videos']\n",
      "/home/morteza/dlc_projects/Analysis/Currencodes/csm_paper\n",
      "/home/morteza/dlc_projects/Analysis/Currencodes/csm_paper/utils\n",
      "/home/morteza/dlc_projects/Analysis/Currencodes/csm_paper/Figure_2\n",
      "/home/morteza/dlc_projects/Analysis/Currencodes/csm_paper/Figure_1\n",
      "/home/morteza/dlc_projects/Analysis/Currencodes/csm_paper/videos\n"
     ]
    }
   ],
   "source": [
    "import numpy as np\n",
    "import pandas as pd\n",
    "import seaborn as sns\n",
    "import matplotlib.pyplot as plt\n",
    "\n",
    "#local\n",
    "from include_package import Welcome_party\n",
    "Welcome_party().initialize()\n",
    "from dlc_iteration import dlc_db\n",
    "from fig_1_visualization_config import visual_config\n",
    "\n",
    "vis_config=visual_config()\n"
   ]
  },
  {
   "cell_type": "code",
   "execution_count": 2,
   "metadata": {},
   "outputs": [
    {
     "name": "stdout",
     "output_type": "stream",
     "text": [
      "17_SKFmissing80\n"
     ]
    },
    {
     "data": {
      "text/html": [
       "<div>\n",
       "<style scoped>\n",
       "    .dataframe tbody tr th:only-of-type {\n",
       "        vertical-align: middle;\n",
       "    }\n",
       "\n",
       "    .dataframe tbody tr th {\n",
       "        vertical-align: top;\n",
       "    }\n",
       "\n",
       "    .dataframe thead th {\n",
       "        text-align: right;\n",
       "    }\n",
       "</style>\n",
       "<table border=\"1\" class=\"dataframe\">\n",
       "  <thead>\n",
       "    <tr style=\"text-align: right;\">\n",
       "      <th></th>\n",
       "      <th>mean_R</th>\n",
       "      <th>mean_phi</th>\n",
       "      <th>mean_rot_speed</th>\n",
       "      <th>mean_trans.</th>\n",
       "      <th>time</th>\n",
       "      <th>animal</th>\n",
       "      <th>treatment</th>\n",
       "    </tr>\n",
       "  </thead>\n",
       "  <tbody>\n",
       "    <tr>\n",
       "      <th>0</th>\n",
       "      <td>83.421323</td>\n",
       "      <td>91.958419</td>\n",
       "      <td>-0.028949</td>\n",
       "      <td>0.439567</td>\n",
       "      <td>10</td>\n",
       "      <td>65_SUM</td>\n",
       "      <td>D2Ag</td>\n",
       "    </tr>\n",
       "    <tr>\n",
       "      <th>1</th>\n",
       "      <td>44.524462</td>\n",
       "      <td>90.165235</td>\n",
       "      <td>-0.724950</td>\n",
       "      <td>1.554081</td>\n",
       "      <td>20</td>\n",
       "      <td>65_SUM</td>\n",
       "      <td>D2Ag</td>\n",
       "    </tr>\n",
       "    <tr>\n",
       "      <th>2</th>\n",
       "      <td>35.086149</td>\n",
       "      <td>92.025486</td>\n",
       "      <td>-0.355834</td>\n",
       "      <td>1.873227</td>\n",
       "      <td>30</td>\n",
       "      <td>65_SUM</td>\n",
       "      <td>D2Ag</td>\n",
       "    </tr>\n",
       "    <tr>\n",
       "      <th>3</th>\n",
       "      <td>37.884475</td>\n",
       "      <td>93.546193</td>\n",
       "      <td>-0.301687</td>\n",
       "      <td>2.028779</td>\n",
       "      <td>40</td>\n",
       "      <td>65_SUM</td>\n",
       "      <td>D2Ag</td>\n",
       "    </tr>\n",
       "    <tr>\n",
       "      <th>4</th>\n",
       "      <td>38.643268</td>\n",
       "      <td>94.870710</td>\n",
       "      <td>-0.623244</td>\n",
       "      <td>2.349014</td>\n",
       "      <td>50</td>\n",
       "      <td>65_SUM</td>\n",
       "      <td>D2Ag</td>\n",
       "    </tr>\n",
       "  </tbody>\n",
       "</table>\n",
       "</div>"
      ],
      "text/plain": [
       "      mean_R   mean_phi  mean_rot_speed  mean_trans.  time  animal treatment\n",
       "0  83.421323  91.958419       -0.028949     0.439567    10  65_SUM      D2Ag\n",
       "1  44.524462  90.165235       -0.724950     1.554081    20  65_SUM      D2Ag\n",
       "2  35.086149  92.025486       -0.355834     1.873227    30  65_SUM      D2Ag\n",
       "3  37.884475  93.546193       -0.301687     2.028779    40  65_SUM      D2Ag\n",
       "4  38.643268  94.870710       -0.623244     2.349014    50  65_SUM      D2Ag"
      ]
     },
     "execution_count": 2,
     "metadata": {},
     "output_type": "execute_result"
    }
   ],
   "source": [
    "db=dlc_db()\n",
    "targs=['LID', 'SKF', 'SUM']\n",
    "db.select_treatment(targets=targs)\n",
    "means_df=[]\n",
    "\n",
    "\n",
    "\n",
    "for the_ky in db.keys:\n",
    "    \n",
    "    i=0\n",
    "    while i<len(db.t_ps):\n",
    "        t_point=db.t_ps[i]\n",
    "        \n",
    "        \n",
    "        try:\n",
    "            db.get_animal(the_ky, db.t_ps[i])\n",
    "            means_df.append((np.mean(db.main_ar()), np.mean(db.mid_head_angs_atan()), np.mean(db.rot_speed()), \n",
    "                         np.mean(db.translation()),int(t_point), the_ky, db.treatment))\n",
    "        except:\n",
    "            print(the_ky+'missing'+t_point)\n",
    "        i+=1\n",
    "        \n",
    "\n",
    "\n",
    "observ_df=pd.DataFrame(means_df, columns=['mean_R', 'mean_phi', 'mean_rot_speed', 'mean_trans.', \n",
    "                                          'time', 'animal', 'treatment'])\n",
    "observ_df.replace({'treatment' : { 'SKF' : 'D1Ag',  'SUM' :'D2Ag',\n",
    "                            'LID':'LD-3mg', 'D1A':'D1Ant', 'D2A':'D2Ant' }}, inplace=True)\n",
    "observ_df.head()"
   ]
  },
  {
   "cell_type": "code",
   "execution_count": 3,
   "metadata": {},
   "outputs": [
    {
     "data": {
      "text/plain": [
       "<AxesSubplot:xlabel='time', ylabel='mean_phi'>"
      ]
     },
     "execution_count": 3,
     "metadata": {},
     "output_type": "execute_result"
    },
    {
     "data": {
      "image/png": "[encoded data removed]",
      "text/plain": [
       "<Figure size 432x288 with 1 Axes>"
      ]
     },
     "metadata": {
      "needs_background": "light"
     },
     "output_type": "display_data"
    }
   ],
   "source": [
    "sns.boxplot(x='time', y='mean_phi', hue='treatment', data=observ_df, showfliers=False)"
   ]
  },
  {
   "cell_type": "code",
   "execution_count": 4,
   "metadata": {},
   "outputs": [
    {
     "data": {
      "text/plain": [
       "<AxesSubplot:xlabel='time', ylabel='mean_R'>"
      ]
     },
     "execution_count": 4,
     "metadata": {},
     "output_type": "execute_result"
    },
    {
     "data": {
      "image/png": "[encoded data removed]",
      "text/plain": [
       "<Figure size 432x288 with 1 Axes>"
      ]
     },
     "metadata": {
      "needs_background": "light"
     },
     "output_type": "display_data"
    }
   ],
   "source": [
    "sns.boxplot(x='time', y='mean_R', hue='treatment', data=observ_df, showfliers=False)"
   ]
  },
  {
   "cell_type": "code",
   "execution_count": 5,
   "metadata": {},
   "outputs": [
    {
     "data": {
      "text/plain": [
       "<AxesSubplot:xlabel='time', ylabel='mean_rot_speed'>"
      ]
     },
     "execution_count": 5,
     "metadata": {},
     "output_type": "execute_result"
    },
    {
     "data": {
      "image/png": "[encoded data removed]",
      "text/plain": [
       "<Figure size 432x288 with 1 Axes>"
      ]
     },
     "metadata": {
      "needs_background": "light"
     },
     "output_type": "display_data"
    }
   ],
   "source": [
    "sns.boxplot(x='time', y='mean_rot_speed', hue='treatment', data=observ_df, showfliers=False)"
   ]
  },
  {
   "cell_type": "code",
   "execution_count": 6,
   "metadata": {},
   "outputs": [
    {
     "data": {
      "text/plain": [
       "<AxesSubplot:xlabel='time', ylabel='mean_trans.'>"
      ]
     },
     "execution_count": 6,
     "metadata": {},
     "output_type": "execute_result"
    },
    {
     "data": {
      "image/png": "[encoded data removed]",
      "text/plain": [
       "<Figure size 432x288 with 1 Axes>"
      ]
     },
     "metadata": {
      "needs_background": "light"
     },
     "output_type": "display_data"
    }
   ],
   "source": [
    "sns.boxplot(x='time', y='mean_trans.', hue='treatment', data=observ_df, showfliers=False)"
   ]
  },
  {
   "cell_type": "code",
   "execution_count": null,
   "metadata": {},
   "outputs": [],
   "source": []
  }
 ],
 "metadata": {
  "kernelspec": {
   "display_name": "Python 3.8.10 ('base')",
   "language": "python",
   "name": "python3"
  },
  "language_info": {
   "codemirror_mode": {
    "name": "ipython",
    "version": 3
   },
   "file_extension": ".py",
   "mimetype": "text/x-python",
   "name": "python",
   "nbconvert_exporter": "python",
   "pygments_lexer": "ipython3",
   "version": "3.8.10"
  },
  "orig_nbformat": 4,
  "vscode": {
   "interpreter": {
    "hash": "64d4941dd2dd139ded38d164335d244a6705118b4fc52e49ec25d8d222c8e1a1"
   }
  }
 },
 "nbformat": 4,
 "nbformat_minor": 2
}
